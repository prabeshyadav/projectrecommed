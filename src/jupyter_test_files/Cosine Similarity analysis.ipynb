{
 "cells": [
  {
   "cell_type": "markdown",
   "metadata": {},
   "source": [
    "# Cosine Similarity"
   ]
  },
  {
   "cell_type": "code",
   "execution_count": 1,
   "metadata": {
    "collapsed": true
   },
   "outputs": [],
   "source": [
    "import pandas as pd\n",
    "import numpy as np\n",
    "from sklearn.metrics import pairwise_distances\n",
    "import csv"
   ]
  },
  {
   "cell_type": "code",
   "execution_count": 2,
   "metadata": {
    "collapsed": false
   },
   "outputs": [
    {
     "data": {
      "text/html": [
       "<div>\n",
       "<table border=\"1\" class=\"dataframe\">\n",
       "  <thead>\n",
       "    <tr style=\"text-align: right;\">\n",
       "      <th></th>\n",
       "      <th>Experience</th>\n",
       "      <th>Company</th>\n",
       "      <th>php</th>\n",
       "      <th>python</th>\n",
       "      <th>qa</th>\n",
       "      <th>js</th>\n",
       "      <th>qualification</th>\n",
       "      <th>level</th>\n",
       "      <th>age</th>\n",
       "    </tr>\n",
       "    <tr>\n",
       "      <th>Id</th>\n",
       "      <th></th>\n",
       "      <th></th>\n",
       "      <th></th>\n",
       "      <th></th>\n",
       "      <th></th>\n",
       "      <th></th>\n",
       "      <th></th>\n",
       "      <th></th>\n",
       "      <th></th>\n",
       "    </tr>\n",
       "  </thead>\n",
       "  <tbody>\n",
       "    <tr>\n",
       "      <th>1.0</th>\n",
       "      <td>0.0</td>\n",
       "      <td>Deerwalk</td>\n",
       "      <td>1</td>\n",
       "      <td>0</td>\n",
       "      <td>0</td>\n",
       "      <td>0</td>\n",
       "      <td>1</td>\n",
       "      <td>1</td>\n",
       "      <td>1</td>\n",
       "    </tr>\n",
       "    <tr>\n",
       "      <th>2.0</th>\n",
       "      <td>4.0</td>\n",
       "      <td>F1soft</td>\n",
       "      <td>0</td>\n",
       "      <td>0</td>\n",
       "      <td>0</td>\n",
       "      <td>1</td>\n",
       "      <td>2</td>\n",
       "      <td>3</td>\n",
       "      <td>5</td>\n",
       "    </tr>\n",
       "    <tr>\n",
       "      <th>3.0</th>\n",
       "      <td>4.0</td>\n",
       "      <td>Leapfrog</td>\n",
       "      <td>0</td>\n",
       "      <td>1</td>\n",
       "      <td>0</td>\n",
       "      <td>0</td>\n",
       "      <td>2</td>\n",
       "      <td>3</td>\n",
       "      <td>3</td>\n",
       "    </tr>\n",
       "    <tr>\n",
       "      <th>4.0</th>\n",
       "      <td>4.0</td>\n",
       "      <td>Leapfrog</td>\n",
       "      <td>0</td>\n",
       "      <td>0</td>\n",
       "      <td>1</td>\n",
       "      <td>0</td>\n",
       "      <td>2</td>\n",
       "      <td>3</td>\n",
       "      <td>4</td>\n",
       "    </tr>\n",
       "    <tr>\n",
       "      <th>5.0</th>\n",
       "      <td>1.0</td>\n",
       "      <td>F1soft</td>\n",
       "      <td>1</td>\n",
       "      <td>0</td>\n",
       "      <td>0</td>\n",
       "      <td>0</td>\n",
       "      <td>3</td>\n",
       "      <td>2</td>\n",
       "      <td>2</td>\n",
       "    </tr>\n",
       "  </tbody>\n",
       "</table>\n",
       "</div>"
      ],
      "text/plain": [
       "     Experience   Company  php  python  qa  js  qualification  level  age\n",
       "Id                                                                       \n",
       "1.0         0.0  Deerwalk    1       0   0   0              1      1    1\n",
       "2.0         4.0    F1soft    0       0   0   1              2      3    5\n",
       "3.0         4.0  Leapfrog    0       1   0   0              2      3    3\n",
       "4.0         4.0  Leapfrog    0       0   1   0              2      3    4\n",
       "5.0         1.0    F1soft    1       0   0   0              3      2    2"
      ]
     },
     "execution_count": 2,
     "metadata": {},
     "output_type": "execute_result"
    }
   ],
   "source": [
    "data = pd.read_csv('dataset.csv')\n",
    "data.set_index ('Id',inplace = True)\n",
    "data.head()"
   ]
  },
  {
   "cell_type": "code",
   "execution_count": 3,
   "metadata": {
    "collapsed": false
   },
   "outputs": [
    {
     "data": {
      "text/plain": [
       "Id\n",
       "1.0    Deerwalk\n",
       "2.0      F1soft\n",
       "3.0    Leapfrog\n",
       "4.0    Leapfrog\n",
       "5.0      F1soft\n",
       "Name: Company, dtype: object"
      ]
     },
     "execution_count": 3,
     "metadata": {},
     "output_type": "execute_result"
    }
   ],
   "source": [
    "company = data['Company']\n",
    "company.head()"
   ]
  },
  {
   "cell_type": "code",
   "execution_count": 4,
   "metadata": {
    "collapsed": false
   },
   "outputs": [
    {
     "data": {
      "text/html": [
       "<div>\n",
       "<table border=\"1\" class=\"dataframe\">\n",
       "  <thead>\n",
       "    <tr style=\"text-align: right;\">\n",
       "      <th></th>\n",
       "      <th>Experience</th>\n",
       "      <th>php</th>\n",
       "      <th>python</th>\n",
       "      <th>qa</th>\n",
       "      <th>js</th>\n",
       "      <th>qualification</th>\n",
       "      <th>level</th>\n",
       "      <th>age</th>\n",
       "    </tr>\n",
       "    <tr>\n",
       "      <th>Id</th>\n",
       "      <th></th>\n",
       "      <th></th>\n",
       "      <th></th>\n",
       "      <th></th>\n",
       "      <th></th>\n",
       "      <th></th>\n",
       "      <th></th>\n",
       "      <th></th>\n",
       "    </tr>\n",
       "  </thead>\n",
       "  <tbody>\n",
       "    <tr>\n",
       "      <th>1.0</th>\n",
       "      <td>0.0</td>\n",
       "      <td>1</td>\n",
       "      <td>0</td>\n",
       "      <td>0</td>\n",
       "      <td>0</td>\n",
       "      <td>1</td>\n",
       "      <td>1</td>\n",
       "      <td>1</td>\n",
       "    </tr>\n",
       "    <tr>\n",
       "      <th>2.0</th>\n",
       "      <td>4.0</td>\n",
       "      <td>0</td>\n",
       "      <td>0</td>\n",
       "      <td>0</td>\n",
       "      <td>1</td>\n",
       "      <td>2</td>\n",
       "      <td>3</td>\n",
       "      <td>5</td>\n",
       "    </tr>\n",
       "    <tr>\n",
       "      <th>3.0</th>\n",
       "      <td>4.0</td>\n",
       "      <td>0</td>\n",
       "      <td>1</td>\n",
       "      <td>0</td>\n",
       "      <td>0</td>\n",
       "      <td>2</td>\n",
       "      <td>3</td>\n",
       "      <td>3</td>\n",
       "    </tr>\n",
       "    <tr>\n",
       "      <th>4.0</th>\n",
       "      <td>4.0</td>\n",
       "      <td>0</td>\n",
       "      <td>0</td>\n",
       "      <td>1</td>\n",
       "      <td>0</td>\n",
       "      <td>2</td>\n",
       "      <td>3</td>\n",
       "      <td>4</td>\n",
       "    </tr>\n",
       "    <tr>\n",
       "      <th>5.0</th>\n",
       "      <td>1.0</td>\n",
       "      <td>1</td>\n",
       "      <td>0</td>\n",
       "      <td>0</td>\n",
       "      <td>0</td>\n",
       "      <td>3</td>\n",
       "      <td>2</td>\n",
       "      <td>2</td>\n",
       "    </tr>\n",
       "  </tbody>\n",
       "</table>\n",
       "</div>"
      ],
      "text/plain": [
       "     Experience  php  python  qa  js  qualification  level  age\n",
       "Id                                                             \n",
       "1.0         0.0    1       0   0   0              1      1    1\n",
       "2.0         4.0    0       0   0   1              2      3    5\n",
       "3.0         4.0    0       1   0   0              2      3    3\n",
       "4.0         4.0    0       0   1   0              2      3    4\n",
       "5.0         1.0    1       0   0   0              3      2    2"
      ]
     },
     "execution_count": 4,
     "metadata": {},
     "output_type": "execute_result"
    }
   ],
   "source": [
    "data.drop('Company', axis = 1, inplace= True)\n",
    "data.head()"
   ]
  },
  {
   "cell_type": "code",
   "execution_count": 12,
   "metadata": {
    "collapsed": false
   },
   "outputs": [
    {
     "data": {
      "text/html": [
       "<div>\n",
       "<table border=\"1\" class=\"dataframe\">\n",
       "  <thead>\n",
       "    <tr style=\"text-align: right;\">\n",
       "      <th></th>\n",
       "      <th>0</th>\n",
       "    </tr>\n",
       "  </thead>\n",
       "  <tbody>\n",
       "    <tr>\n",
       "      <th>0</th>\n",
       "      <td>0.674200</td>\n",
       "    </tr>\n",
       "    <tr>\n",
       "      <th>1</th>\n",
       "      <td>1.000000</td>\n",
       "    </tr>\n",
       "    <tr>\n",
       "      <th>2</th>\n",
       "      <td>0.950034</td>\n",
       "    </tr>\n",
       "    <tr>\n",
       "      <th>3</th>\n",
       "      <td>0.974172</td>\n",
       "    </tr>\n",
       "    <tr>\n",
       "      <th>4</th>\n",
       "      <td>0.804295</td>\n",
       "    </tr>\n",
       "  </tbody>\n",
       "</table>\n",
       "</div>"
      ],
      "text/plain": [
       "          0\n",
       "0  0.674200\n",
       "1  1.000000\n",
       "2  0.950034\n",
       "3  0.974172\n",
       "4  0.804295"
      ]
     },
     "execution_count": 12,
     "metadata": {},
     "output_type": "execute_result"
    }
   ],
   "source": [
    "test = data.iloc[[1]]\n",
    "cosine_sim = 1-pairwise_distances(data,test, metric=\"cosine\")\n",
    "result= pd.DataFrame(cosine_sim)\n",
    "result.head()"
   ]
  },
  {
   "cell_type": "code",
   "execution_count": 29,
   "metadata": {
    "collapsed": false
   },
   "outputs": [
    {
     "data": {
      "text/plain": [
       "855  0    1.000000\n",
       "514  0    1.000000\n",
       "1    0    1.000000\n",
       "724  0    1.000000\n",
       "956  0    0.996479\n",
       "432  0    0.994987\n",
       "35   0    0.994445\n",
       "dtype: float64"
      ]
     },
     "execution_count": 29,
     "metadata": {},
     "output_type": "execute_result"
    }
   ],
   "source": [
    "similar = result.stack()\n",
    "final= similar.sort_values(ascending=False )\n",
    "final = final.iloc[0:7:1]\n",
    "final"
   ]
  },
  {
   "cell_type": "code",
   "execution_count": 46,
   "metadata": {
    "collapsed": false
   },
   "outputs": [
    {
     "name": "stdout",
     "output_type": "stream",
     "text": [
      "[(856, 1.0), (515, 1.0), (2, 1.0), (725, 1.0), (957, 0.99647864852674928), (433, 0.99498743710661997), (36, 0.99444479713328215)]\n"
     ]
    }
   ],
   "source": [
    "rec_index = []\n",
    "for (index,value) in final.iteritems():\n",
    "    rec_index.append(((index[0]+1),value))\n",
    "print(rec_index)"
   ]
  },
  {
   "cell_type": "code",
   "execution_count": 54,
   "metadata": {
    "collapsed": false
   },
   "outputs": [
    {
     "name": "stdout",
     "output_type": "stream",
     "text": [
      "     Experience  php  python  qa  js  qualification  level  age\n",
      "Id                                                             \n",
      "2.0         4.0    0       0   0   1              2      3    5\n",
      "Leapfrog\n",
      "Experience       4.0\n",
      "php              0.0\n",
      "python           0.0\n",
      "qa               0.0\n",
      "js               1.0\n",
      "qualification    2.0\n",
      "level            3.0\n",
      "age              5.0\n",
      "Name: 856.0, dtype: float64\n",
      "Aayulogic\n",
      "Experience       4.0\n",
      "php              0.0\n",
      "python           0.0\n",
      "qa               0.0\n",
      "js               1.0\n",
      "qualification    2.0\n",
      "level            3.0\n",
      "age              5.0\n",
      "Name: 515.0, dtype: float64\n",
      "F1soft\n",
      "Experience       4.0\n",
      "php              0.0\n",
      "python           0.0\n",
      "qa               0.0\n",
      "js               1.0\n",
      "qualification    2.0\n",
      "level            3.0\n",
      "age              5.0\n",
      "Name: 2.0, dtype: float64\n",
      "F1soft\n",
      "Experience       4.0\n",
      "php              0.0\n",
      "python           0.0\n",
      "qa               0.0\n",
      "js               1.0\n",
      "qualification    2.0\n",
      "level            3.0\n",
      "age              5.0\n",
      "Name: 725.0, dtype: float64\n",
      "Aayulogic\n",
      "Experience       5.0\n",
      "php              0.0\n",
      "python           0.0\n",
      "qa               0.0\n",
      "js               1.0\n",
      "qualification    2.0\n",
      "level            3.0\n",
      "age              6.0\n",
      "Name: 957.0, dtype: float64\n",
      "Aayulogic\n",
      "Experience       5.0\n",
      "php              0.0\n",
      "python           0.0\n",
      "qa               0.0\n",
      "js               1.0\n",
      "qualification    3.0\n",
      "level            3.0\n",
      "age              6.0\n",
      "Name: 433.0, dtype: float64\n",
      "Leapfrog\n",
      "Experience       5.0\n",
      "php              0.0\n",
      "python           0.0\n",
      "qa               0.0\n",
      "js               1.0\n",
      "qualification    2.0\n",
      "level            3.0\n",
      "age              5.0\n",
      "Name: 36.0, dtype: float64\n"
     ]
    }
   ],
   "source": [
    "print(test)\n",
    "for each in rec_index:\n",
    "    print(company[each[0]])\n",
    "    print(data.loc[each[0]])"
   ]
  },
  {
   "cell_type": "code",
   "execution_count": null,
   "metadata": {
    "collapsed": true
   },
   "outputs": [],
   "source": []
  }
 ],
 "metadata": {
  "kernelspec": {
   "display_name": "Python 3",
   "language": "python",
   "name": "python3"
  },
  "language_info": {
   "codemirror_mode": {
    "name": "ipython",
    "version": 3
   },
   "file_extension": ".py",
   "mimetype": "text/x-python",
   "name": "python",
   "nbconvert_exporter": "python",
   "pygments_lexer": "ipython3",
   "version": "3.6.0"
  }
 },
 "nbformat": 4,
 "nbformat_minor": 2
}
