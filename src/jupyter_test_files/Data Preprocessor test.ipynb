{
 "cells": [
  {
   "cell_type": "code",
   "execution_count": 2,
   "metadata": {
    "collapsed": true
   },
   "outputs": [],
   "source": [
    "import pandas as pd\n",
    "import csv\n",
    "import random"
   ]
  },
  {
   "cell_type": "code",
   "execution_count": 3,
   "metadata": {
    "collapsed": true
   },
   "outputs": [],
   "source": [
    "userdata = pd.read_csv('finalUser.csv')\n",
    "jobdata = pd.read_csv('finalJob.csv')"
   ]
  },
  {
   "cell_type": "code",
   "execution_count": 16,
   "metadata": {
    "collapsed": true
   },
   "outputs": [],
   "source": [
    "\n",
    "class preProcessor():\n",
    "    def __init__(self, *args, **kwargs):\n",
    "        self.userdata = args[0]\n",
    "        self.jobdata = args[1]\n",
    "        self.testdata = args[2]\n",
    "    \n",
    "    def columnSelector (self):\n",
    "        matching = set(self.userdata) - set(self.testdata)\n",
    "        remove= list(matching)\n",
    "        self.userdata.drop(remove,axis=1, inplace=True)\n",
    "        order = list(self.userdata)\n",
    "        self.testdata = self.testdata[order]\n",
    "        return self.userdata,self.testdata\n",
    "\n",
    "    \n",
    "    def usertouser(self):\n",
    "        self.userdata.drop('Jobid',axis= 1, inplace= True)\n",
    "        self.order =['experience','php','python','qa','js','level','qualification','age']\n",
    "        self.test = self.test[self.order]\n",
    "\n",
    "    def usertocompany(self):\n",
    "        self.userdata.drop('Jobid',axis= 1, inplace= True)\n",
    "        self.order =['experience','php','python','qa','js','level','qualification','age']\n",
    "        self.test = self.test[self.order]\n",
    "\n",
    "    def companytocompany(self):\n",
    "        pass"
   ]
  },
  {
   "cell_type": "code",
   "execution_count": 17,
   "metadata": {
    "collapsed": false
   },
   "outputs": [],
   "source": [
    "testdata = {'php': 1, 'python': 1, 'qualification': 2, 'experience': 5,'level': 2, 'age': 25}\n",
    "frame = pd.DataFrame.from_dict([testdata])"
   ]
  },
  {
   "cell_type": "code",
   "execution_count": 18,
   "metadata": {
    "collapsed": false
   },
   "outputs": [],
   "source": [
    "a = preProcessor(userdata,0,frame)"
   ]
  },
  {
   "cell_type": "code",
   "execution_count": 20,
   "metadata": {
    "collapsed": false
   },
   "outputs": [
    {
     "ename": "AttributeError",
     "evalue": "'tuple' object has no attribute 'head'",
     "output_type": "error",
     "traceback": [
      "\u001b[0;31m---------------------------------------------------------------------------\u001b[0m",
      "\u001b[0;31mAttributeError\u001b[0m                            Traceback (most recent call last)",
      "\u001b[0;32m<ipython-input-20-5c9646a1d186>\u001b[0m in \u001b[0;36m<module>\u001b[0;34m()\u001b[0m\n\u001b[0;32m----> 1\u001b[0;31m \u001b[0ma\u001b[0m\u001b[0;34m.\u001b[0m\u001b[0mcolumnSelector\u001b[0m\u001b[0;34m(\u001b[0m\u001b[0;34m)\u001b[0m\u001b[0;34m.\u001b[0m\u001b[0mhead\u001b[0m\u001b[0;34m(\u001b[0m\u001b[0;36m1\u001b[0m\u001b[0;34m)\u001b[0m\u001b[0;34m\u001b[0m\u001b[0m\n\u001b[0m",
      "\u001b[0;31mAttributeError\u001b[0m: 'tuple' object has no attribute 'head'"
     ]
    }
   ],
   "source": [
    "a.columnSelector()"
   ]
  },
  {
   "cell_type": "code",
   "execution_count": null,
   "metadata": {
    "collapsed": true
   },
   "outputs": [],
   "source": []
  }
 ],
 "metadata": {
  "kernelspec": {
   "display_name": "Python 3",
   "language": "python",
   "name": "python3"
  },
  "language_info": {
   "codemirror_mode": {
    "name": "ipython",
    "version": 3
   },
   "file_extension": ".py",
   "mimetype": "text/x-python",
   "name": "python",
   "nbconvert_exporter": "python",
   "pygments_lexer": "ipython3",
   "version": "3.6.0"
  }
 },
 "nbformat": 4,
 "nbformat_minor": 2
}
