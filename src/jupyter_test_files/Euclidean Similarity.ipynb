{
 "cells": [
  {
   "cell_type": "code",
   "execution_count": 25,
   "metadata": {
    "collapsed": true
   },
   "outputs": [],
   "source": [
    "import pandas as pd\n",
    "import numpy as np\n",
    "from sklearn.metrics import euclidean_distances\n",
    "import csv"
   ]
  },
  {
   "cell_type": "code",
   "execution_count": 26,
   "metadata": {
    "collapsed": true
   },
   "outputs": [],
   "source": [
    "data = pd.read_csv('dataset.csv')\n",
    "data.set_index ('Id',inplace = True)"
   ]
  },
  {
   "cell_type": "code",
   "execution_count": 27,
   "metadata": {
    "collapsed": false
   },
   "outputs": [],
   "source": [
    "company = data['Company']\n",
    "data.drop('Company', axis = 1, inplace= True)\n",
    "euclidean_sim = euclidean_distances(data)"
   ]
  },
  {
   "cell_type": "code",
   "execution_count": 28,
   "metadata": {
    "collapsed": true
   },
   "outputs": [],
   "source": [
    "result= pd.DataFrame(euclidean_sim)\n",
    "#find most similar user with user 2\n",
    "similar = result.iloc[[1]]"
   ]
  },
  {
   "cell_type": "code",
   "execution_count": 29,
   "metadata": {
    "collapsed": false
   },
   "outputs": [
    {
     "data": {
      "text/html": [
       "<div>\n",
       "<table border=\"1\" class=\"dataframe\">\n",
       "  <thead>\n",
       "    <tr style=\"text-align: right;\">\n",
       "      <th></th>\n",
       "      <th>0</th>\n",
       "      <th>1</th>\n",
       "      <th>2</th>\n",
       "      <th>3</th>\n",
       "      <th>4</th>\n",
       "      <th>5</th>\n",
       "      <th>6</th>\n",
       "      <th>7</th>\n",
       "      <th>8</th>\n",
       "      <th>9</th>\n",
       "      <th>...</th>\n",
       "      <th>990</th>\n",
       "      <th>991</th>\n",
       "      <th>992</th>\n",
       "      <th>993</th>\n",
       "      <th>994</th>\n",
       "      <th>995</th>\n",
       "      <th>996</th>\n",
       "      <th>997</th>\n",
       "      <th>998</th>\n",
       "      <th>999</th>\n",
       "    </tr>\n",
       "  </thead>\n",
       "  <tbody>\n",
       "    <tr>\n",
       "      <th>1</th>\n",
       "      <td>6.244998</td>\n",
       "      <td>0.0</td>\n",
       "      <td>2.44949</td>\n",
       "      <td>1.732051</td>\n",
       "      <td>4.690416</td>\n",
       "      <td>4.358899</td>\n",
       "      <td>2.0</td>\n",
       "      <td>2.645751</td>\n",
       "      <td>3.316625</td>\n",
       "      <td>2.44949</td>\n",
       "      <td>...</td>\n",
       "      <td>2.645751</td>\n",
       "      <td>3.605551</td>\n",
       "      <td>4.898979</td>\n",
       "      <td>4.358899</td>\n",
       "      <td>1.732051</td>\n",
       "      <td>2.828427</td>\n",
       "      <td>2.0</td>\n",
       "      <td>2.0</td>\n",
       "      <td>5.291503</td>\n",
       "      <td>2.828427</td>\n",
       "    </tr>\n",
       "  </tbody>\n",
       "</table>\n",
       "<p>1 rows × 1000 columns</p>\n",
       "</div>"
      ],
      "text/plain": [
       "        0    1        2         3         4         5    6         7    \\\n",
       "1  6.244998  0.0  2.44949  1.732051  4.690416  4.358899  2.0  2.645751   \n",
       "\n",
       "        8        9      ...          990       991       992       993  \\\n",
       "1  3.316625  2.44949    ...     2.645751  3.605551  4.898979  4.358899   \n",
       "\n",
       "        994       995  996  997       998       999  \n",
       "1  1.732051  2.828427  2.0  2.0  5.291503  2.828427  \n",
       "\n",
       "[1 rows x 1000 columns]"
      ]
     },
     "execution_count": 29,
     "metadata": {},
     "output_type": "execute_result"
    }
   ],
   "source": [
    "similar.head()"
   ]
  },
  {
   "cell_type": "code",
   "execution_count": 30,
   "metadata": {
    "collapsed": false
   },
   "outputs": [],
   "source": [
    "similar = similar.stack()\n",
    "\n",
    "final= similar.sort_values(ascending=False )\n",
    "final = final.iloc[0:7:1]"
   ]
  },
  {
   "cell_type": "code",
   "execution_count": 31,
   "metadata": {
    "collapsed": false
   },
   "outputs": [
    {
     "name": "stdout",
     "output_type": "stream",
     "text": [
      "[1, 828, 298, 286, 280, 144, 194]\n"
     ]
    }
   ],
   "source": [
    "rec_index = []\n",
    "for (index,value) in final.iteritems():\n",
    "    rec_index.append(index[1]+1)\n",
    "print(rec_index)"
   ]
  },
  {
   "cell_type": "code",
   "execution_count": 32,
   "metadata": {
    "collapsed": false
   },
   "outputs": [
    {
     "name": "stdout",
     "output_type": "stream",
     "text": [
      "Deerwalk\n",
      "Experience       0.0\n",
      "php              1.0\n",
      "python           0.0\n",
      "qa               0.0\n",
      "js               0.0\n",
      "qualification    1.0\n",
      "level            1.0\n",
      "age              1.0\n",
      "Name: 1.0, dtype: float64\n",
      "Aayulogic\n",
      "Experience       0.0\n",
      "php              0.0\n",
      "python           1.0\n",
      "qa               0.0\n",
      "js               0.0\n",
      "qualification    1.0\n",
      "level            1.0\n",
      "age              1.0\n",
      "Name: 828.0, dtype: float64\n",
      "Leapfrog\n",
      "Experience       0.0\n",
      "php              1.0\n",
      "python           0.0\n",
      "qa               0.0\n",
      "js               0.0\n",
      "qualification    3.0\n",
      "level            1.0\n",
      "age              1.0\n",
      "Name: 298.0, dtype: float64\n",
      "Deerwalk\n",
      "Experience       0.0\n",
      "php              1.0\n",
      "python           0.0\n",
      "qa               0.0\n",
      "js               0.0\n",
      "qualification    3.0\n",
      "level            1.0\n",
      "age              1.0\n",
      "Name: 286.0, dtype: float64\n",
      "F1soft\n",
      "Experience       0.0\n",
      "php              0.0\n",
      "python           0.0\n",
      "qa               1.0\n",
      "js               0.0\n",
      "qualification    3.0\n",
      "level            1.0\n",
      "age              1.0\n",
      "Name: 280.0, dtype: float64\n",
      "Leapfrog\n",
      "Experience       0.0\n",
      "php              0.0\n",
      "python           0.0\n",
      "qa               1.0\n",
      "js               0.0\n",
      "qualification    3.0\n",
      "level            1.0\n",
      "age              1.0\n",
      "Name: 144.0, dtype: float64\n",
      "Leapfrog\n",
      "Experience       0.0\n",
      "php              1.0\n",
      "python           0.0\n",
      "qa               0.0\n",
      "js               0.0\n",
      "qualification    3.0\n",
      "level            1.0\n",
      "age              1.0\n",
      "Name: 194.0, dtype: float64\n"
     ]
    }
   ],
   "source": [
    "for each in rec_index:\n",
    "    print(company[each])\n",
    "    print(data.loc[each])"
   ]
  },
  {
   "cell_type": "code",
   "execution_count": null,
   "metadata": {
    "collapsed": true
   },
   "outputs": [],
   "source": []
  }
 ],
 "metadata": {
  "kernelspec": {
   "display_name": "Python 3",
   "language": "python",
   "name": "python3"
  },
  "language_info": {
   "codemirror_mode": {
    "name": "ipython",
    "version": 3
   },
   "file_extension": ".py",
   "mimetype": "text/x-python",
   "name": "python",
   "nbconvert_exporter": "python",
   "pygments_lexer": "ipython3",
   "version": "3.6.0"
  }
 },
 "nbformat": 4,
 "nbformat_minor": 2
}
